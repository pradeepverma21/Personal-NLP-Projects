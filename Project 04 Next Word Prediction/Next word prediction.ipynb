{
 "cells": [
  {
   "cell_type": "markdown",
   "id": "22400fb0",
   "metadata": {},
   "source": [
    "# Next word prediction"
   ]
  },
  {
   "cell_type": "markdown",
   "id": "e7990f81",
   "metadata": {},
   "source": [
    "BY : ***Pradeep Verma***"
   ]
  },
  {
   "cell_type": "markdown",
   "id": "b5d7c01d",
   "metadata": {},
   "source": [
    "Next Word Prediction means predicting the most likely word or phrase that will come next in a sentence or text.<br> It is like having an inbuilt feature on an application that suggests the next word as you type or speak.<br> The Next Word Prediction Models are used in applications like messaging apps, search engines, virtual assistants, and autocorrect features on smartphones."
   ]
  },
  {
   "cell_type": "markdown",
   "id": "96065c95",
   "metadata": {},
   "source": [
    "## Next Word Prediction model"
   ]
  },
  {
   "cell_type": "markdown",
   "id": "d8a234c6",
   "metadata": {},
   "source": [
    "1) Start by collecting a diverse dataset of text documents, \n",
    "2) Preprocess the data by cleaning and tokenizing it, \n",
    "3) Prepare the data by creating input-output pairs, \n",
    "4) Engineer features such as word embeddings, \n",
    "5) Select an appropriate model like an LSTM or GPT, \n",
    "6) Train the model on the dataset while adjusting hyperparameters,\n",
    "7) Improve the model by experimenting with different techniques and architectures."
   ]
  },
  {
   "cell_type": "markdown",
   "id": "ea8f9afe",
   "metadata": {},
   "source": [
    "## Importing the libraries and dataset"
   ]
  },
  {
   "cell_type": "code",
   "execution_count": null,
   "id": "7e3571d2",
   "metadata": {},
   "outputs": [],
   "source": [
    "#import the libraries\n",
    "import numpy as np\n",
    "import tensorflow as tf\n",
    "from tensorflow.keras.preprocessing.text import Tokenizer\n",
    "from tensorflow.keras.preprocessing.sequence import pad_sequences\n",
    "from tensorflow.keras.models import Sequential\n",
    "from tensorflow.keras.layers import Embedding, LSTM, Dense"
   ]
  },
  {
   "cell_type": "code",
   "execution_count": null,
   "id": "6ffbfbf0",
   "metadata": {},
   "outputs": [],
   "source": [
    "# Read the text file\n",
    "with open('sherlock-holm.es_stories_plain-text_advs.txt', 'r', encoding='utf-8') as file:\n",
    "    text = file.read()"
   ]
  },
  {
   "cell_type": "code",
   "execution_count": null,
   "id": "1dc0a0e1",
   "metadata": {},
   "outputs": [],
   "source": [
    "print(len(text))"
   ]
  },
  {
   "cell_type": "markdown",
   "id": "a7a5ea2b",
   "metadata": {},
   "source": [
    "## Tokenize the text"
   ]
  },
  {
   "cell_type": "code",
   "execution_count": null,
   "id": "d28f80d0",
   "metadata": {},
   "outputs": [],
   "source": [
    "tokenizer = Tokenizer()\n",
    "tokenizer.fit_on_texts([text])\n",
    "total_words = len(tokenizer.word_index) + 1"
   ]
  },
  {
   "cell_type": "markdown",
   "id": "91ec34d0",
   "metadata": {},
   "source": [
    "In the above code, the text is tokenized, which means it is divided into individual words or tokens.<br> The ‘Tokenizer’ object is created, which will handle the tokenization process. <br>The ‘fit_on_texts’ method of the tokenizer is called, passing the ‘text’ as input. <br>This method analyzes the text and builds a vocabulary of unique words, assigning each word a numerical index.<br> The ‘total_words’ variable is then assigned the value of the length of the word index plus one, representing the total number of distinct words in the text."
   ]
  },
  {
   "cell_type": "markdown",
   "id": "9db6a373",
   "metadata": {},
   "source": [
    "## N-Grams"
   ]
  },
  {
   "cell_type": "code",
   "execution_count": null,
   "id": "49d5b449",
   "metadata": {},
   "outputs": [],
   "source": [
    "input_sequences = []\n",
    "for line in text.split('\\n'):\n",
    "    token_list = tokenizer.texts_to_sequences([line])[0]\n",
    "    for i in range(1, len(token_list)):\n",
    "        n_gram_sequence = token_list[:i+1]\n",
    "        input_sequences.append(n_gram_sequence)"
   ]
  },
  {
   "cell_type": "markdown",
   "id": "07d4e5ad",
   "metadata": {},
   "source": [
    "In the above code, the text data is split into lines using the ‘\\n’ character as a delimiter. <br>For each line in the text, the ‘texts_to_sequences’ method of the tokenizer is used to convert the line into a sequence of numerical tokens based on the previously created vocabulary. <br>The resulting token list is then iterated over using a for loop.<br>For each iteration, a subsequence, or n-gram, of tokens is extracted, ranging from the beginning of the token list up to the current index ‘i’.\n",
    "<br>This n-gram sequence represents the input context, with the last token being the target or predicted word. <br>This n-gram sequence is then appended to the ‘input_sequences’ list. <br>This process is repeated for all lines in the text, generating multiple input-output sequences that will be used for training the next word prediction model."
   ]
  },
  {
   "cell_type": "code",
   "execution_count": null,
   "id": "53e05263",
   "metadata": {},
   "outputs": [],
   "source": [
    "max_sequence_len = max([len(seq) for seq in input_sequences])\n",
    "input_sequences = np.array(pad_sequences(input_sequences, maxlen=max_sequence_len, padding='pre'))"
   ]
  },
  {
   "cell_type": "markdown",
   "id": "65843f1b",
   "metadata": {},
   "source": [
    "In the above code, the input sequences are padded to ensure all sequences have the same length. <br>\n",
    "The variable ‘max_sequence_len’ is assigned the maximum length among all the input sequences.  <br>\n",
    "The ‘pad_sequences’ function is used to pad or truncate the input sequences to match this maximum length. <br>\n",
    "The ‘pad_sequences’ function takes the input_sequences list, sets the maximum length to ‘max_sequence_len’, and specifies that the padding should be added at the beginning of each sequence using the ‘padding=pre’ argument. <br>\n",
    "Finally, the input sequences are converted into a numpy array to facilitate further processing.\n",
    "\n"
   ]
  },
  {
   "cell_type": "code",
   "execution_count": null,
   "id": "045a5646",
   "metadata": {},
   "outputs": [],
   "source": [
    "X = input_sequences[:, :-1]\n",
    "\n",
    "y = input_sequences[:, -1]"
   ]
  },
  {
   "cell_type": "markdown",
   "id": "295468df",
   "metadata": {},
   "source": [
    "In the above code, the input sequences are split into two arrays, ‘X’ and ‘y’, to create the input and output for training the next word prediction model.<br>The ‘X’ array is assigned the values of all rows in the ‘input_sequences’ array except for the last column. It means that ‘X’ contains all the tokens in each sequence except for the last one, representing the input context.<br>On the other hand, the ‘y’ array is assigned the values of the last column in the ‘input_sequences’ array, which represents the target or predicted word."
   ]
  },
  {
   "cell_type": "markdown",
   "id": "d6a60fe0",
   "metadata": {},
   "source": [
    "### One Hot Encoding"
   ]
  },
  {
   "cell_type": "code",
   "execution_count": null,
   "id": "8866e9a4",
   "metadata": {},
   "outputs": [],
   "source": [
    "y = np.array(tf.keras.utils.to_categorical(y, num_classes=total_words))"
   ]
  },
  {
   "cell_type": "markdown",
   "id": "e5f0232a",
   "metadata": {},
   "source": [
    "## Building Nueral Network"
   ]
  },
  {
   "cell_type": "code",
   "execution_count": null,
   "id": "c6f4d03a",
   "metadata": {},
   "outputs": [],
   "source": [
    "model = Sequential()\n",
    "model.add(Embedding(total_words, 100, input_length=max_sequence_len-1))\n",
    "model.add(LSTM(150))\n",
    "model.add(Dense(total_words, activation='softmax'))\n",
    "print(model.summary())"
   ]
  },
  {
   "cell_type": "markdown",
   "id": "540960e3",
   "metadata": {},
   "source": [
    "The code above defines the model architecture for the next word prediction model. <br>The ‘Sequential’ model is created, which represents a linear stack of layers. <br><br>The first layer added to the model is the ‘Embedding’ layer, which is responsible for converting the input sequences into dense vectors of fixed size.<br> It takes three arguments:\n",
    "1) ‘total_words’, which represents the total number of distinct words in the vocabulary; \n",
    "2) ‘100’, which denotes the dimensionality of the word embeddings; \n",
    "2) ‘input_length’, which specifies the length of the input sequences.\n",
    "<br>\n",
    "The next layer added is the ‘LSTM’ layer, a type of recurrent neural network (RNN) layer designed for capturing sequential dependencies in the data. It has 150 units, which means it will learn 150 internal representations or memory cells.\n",
    "<BR>\n",
    "Finally, the ‘Dense’ layer is added, which is a fully connected layer that produces the output predictions. It has ‘total_words’ units and uses the ‘softmax’ activation function to convert the predicted scores into probabilities, indicating the likelihood of each word being the next one in the sequence."
   ]
  },
  {
   "cell_type": "markdown",
   "id": "3dd10113",
   "metadata": {},
   "source": [
    "## Compile the model\n"
   ]
  },
  {
   "cell_type": "code",
   "execution_count": null,
   "id": "00e2cfec",
   "metadata": {},
   "outputs": [],
   "source": [
    "model.compile(loss='categorical_crossentropy', optimizer='adam', metrics=['accuracy'])\n"
   ]
  },
  {
   "cell_type": "code",
   "execution_count": null,
   "id": "d6032931",
   "metadata": {},
   "outputs": [],
   "source": [
    "model.fit(X, y, epochs=100, verbose=1)"
   ]
  },
  {
   "cell_type": "markdown",
   "id": "c919411a",
   "metadata": {},
   "source": [
    "In the above code, the model is being compiled and trained. The ‘compile’ method configures the model for training. The ‘loss’ parameter is set to ‘categorical_crossentropy’, a commonly used loss function for multi-class classification problems. The ‘optimizer’ parameter is set to ‘adam’, an optimization algorithm that adapts the learning rate during training.\n",
    "\n",
    "\n",
    "The ‘metrics’ parameter is set to ‘accuracy’ to monitor the accuracy during training. After compiling the model, the ‘fit’ method is called to train the model on the input sequences ‘X’ and the corresponding output ‘y’. The ‘epochs’ parameter specifies the number of times the training process will iterate over the entire dataset. The ‘verbose’ parameter is set to ‘1’ to display the training process."
   ]
  },
  {
   "cell_type": "code",
   "execution_count": null,
   "id": "b18b7d55",
   "metadata": {},
   "outputs": [],
   "source": [
    "seed_text = \"I will leave if they\"\n",
    "next_words = 3\n",
    "\n",
    "for _ in range(next_words):\n",
    "    token_list = tokenizer.texts_to_sequences([seed_text])[0]\n",
    "    token_list = pad_sequences([token_list], maxlen=max_sequence_len-1, padding='pre')\n",
    "    predicted = np.argmax(model.predict(token_list), axis=-1)\n",
    "    output_word = \"\"\n",
    "    for word, index in tokenizer.word_index.items():\n",
    "        if index == predicted:\n",
    "            output_word = word\n",
    "            break\n",
    "    seed_text += \" \" + output_word\n",
    "\n",
    "print(seed_text)"
   ]
  }
 ],
 "metadata": {
  "kernelspec": {
   "display_name": "Python 3 (ipykernel)",
   "language": "python",
   "name": "python3"
  },
  "language_info": {
   "codemirror_mode": {
    "name": "ipython",
    "version": 3
   },
   "file_extension": ".py",
   "mimetype": "text/x-python",
   "name": "python",
   "nbconvert_exporter": "python",
   "pygments_lexer": "ipython3",
   "version": "3.10.9"
  }
 },
 "nbformat": 4,
 "nbformat_minor": 5
}
